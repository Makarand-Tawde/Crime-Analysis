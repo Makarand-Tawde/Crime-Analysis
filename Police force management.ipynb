{
 "cells": [
  {
   "cell_type": "code",
   "execution_count": 26,
   "metadata": {},
   "outputs": [],
   "source": [
    "#Importing required libraries\n",
    "import pandas as pd\n",
    "import geopandas as gpd\n",
    "import matplotlib.pyplot as plt\n",
    "import seaborn as sns "
   ]
  },
  {
   "cell_type": "code",
   "execution_count": 27,
   "metadata": {},
   "outputs": [],
   "source": [
    "#Reading input crime related data\n",
    "all_details = gpd.read_file('D:\\All_details\\All_details.shp')"
   ]
  },
  {
   "cell_type": "code",
   "execution_count": 28,
   "metadata": {},
   "outputs": [
    {
     "name": "stdout",
     "output_type": "stream",
     "text": [
      "Index(['OBJECTID', 'Join_Count', 'TARGET_FID', 'CrimeDate', 'CrimeTime',\n",
      "       'CrimeCode', 'Location', 'Descriptio', 'Inside_Out', 'Weapon', 'Post',\n",
      "       'District', 'Neighborho', 'Longitude', 'Latitude', 'Location_1',\n",
      "       'Premise', 'Total_Inci', 'FID_1', 'Id', 'Input_FID', 'Count_',\n",
      "       'Sum_Post', 'Sum_Longit', 'Sum_Latitu', 'Sum_Total', 'geometry'],\n",
      "      dtype='object')\n"
     ]
    }
   ],
   "source": [
    "print(all_details.keys())"
   ]
  },
  {
   "cell_type": "code",
   "execution_count": 29,
   "metadata": {},
   "outputs": [],
   "source": [
    "#Handling missing values\n",
    "all_details=all_details.dropna()"
   ]
  },
  {
   "cell_type": "code",
   "execution_count": 30,
   "metadata": {},
   "outputs": [
    {
     "data": {
      "text/plain": [
       "(89943, 27)"
      ]
     },
     "execution_count": 30,
     "metadata": {},
     "output_type": "execute_result"
    }
   ],
   "source": [
    "all_details.shape"
   ]
  },
  {
   "cell_type": "code",
   "execution_count": 20,
   "metadata": {},
   "outputs": [],
   "source": [
    "#Condition for extracting Hotspots\n",
    "#If hexagon has crime count greater than 143 then it is considered as hotspot\n",
    "all_details=all_details[all_details['Count_']>143]"
   ]
  },
  {
   "cell_type": "code",
   "execution_count": 34,
   "metadata": {},
   "outputs": [],
   "source": [
    "all_details.to_csv('D:\\Result Visualization\\Affected_Areas.csv')"
   ]
  },
  {
   "cell_type": "code",
   "execution_count": 21,
   "metadata": {},
   "outputs": [],
   "source": [
    "all_details= all_details.drop_duplicates(subset='Input_FID', keep=\"first\")"
   ]
  },
  {
   "cell_type": "code",
   "execution_count": 10,
   "metadata": {},
   "outputs": [],
   "source": [
    "#Finding district wise hotspot\n",
    "Districtwise_hotspots=all_details['District'].value_counts()"
   ]
  },
  {
   "cell_type": "code",
   "execution_count": 13,
   "metadata": {},
   "outputs": [],
   "source": [
    "districtwise=all_details"
   ]
  },
  {
   "cell_type": "code",
   "execution_count": 16,
   "metadata": {},
   "outputs": [],
   "source": [
    "#Converting our dataframe to a shape file so that we can import that into ArcGIS application\n",
    "import geopandas\n",
    "shopie = geopandas.GeoDataFrame(districtwise)"
   ]
  },
  {
   "cell_type": "code",
   "execution_count": 17,
   "metadata": {},
   "outputs": [],
   "source": [
    "#Exporting our shape file\n",
    "districtwise.to_file('D:districtwise.shp')"
   ]
  },
  {
   "cell_type": "code",
   "execution_count": 15,
   "metadata": {},
   "outputs": [
    {
     "data": {
      "text/plain": [
       "(287, 27)"
      ]
     },
     "execution_count": 15,
     "metadata": {},
     "output_type": "execute_result"
    }
   ],
   "source": [
    "districtwise.shape"
   ]
  },
  {
   "cell_type": "code",
   "execution_count": 11,
   "metadata": {},
   "outputs": [
    {
     "data": {
      "text/plain": [
       "SOUTHEASTERN    80\n",
       "CENTRAL         69\n",
       "EASTERN         27\n",
       "SOUTHERN        23\n",
       "NORTHERN        21\n",
       "WESTERN         20\n",
       "NORTHEASTERN    16\n",
       "SOUTHWESTERN    16\n",
       "NORTHWESTERN    15\n",
       "Name: District, dtype: int64"
      ]
     },
     "execution_count": 11,
     "metadata": {},
     "output_type": "execute_result"
    }
   ],
   "source": [
    "Districtwise_hotspots"
   ]
  },
  {
   "cell_type": "code",
   "execution_count": 12,
   "metadata": {},
   "outputs": [
    {
     "data": {
      "text/plain": [
       "<matplotlib.axes._subplots.AxesSubplot at 0x19e55432a20>"
      ]
     },
     "execution_count": 12,
     "metadata": {},
     "output_type": "execute_result"
    },
    {
     "data": {
      "image/png": "[encoded data removed]",
      "text/plain": [
       "<Figure size 432x288 with 1 Axes>"
      ]
     },
     "metadata": {
      "needs_background": "light"
     },
     "output_type": "display_data"
    }
   ],
   "source": [
    "Districtwise_hotspots.plot(kind=\"bar\")"
   ]
  },
  {
   "cell_type": "code",
   "execution_count": 24,
   "metadata": {},
   "outputs": [],
   "source": [
    "Neighbourhood_affected=all_details['Neighborho'].value_counts()"
   ]
  },
  {
   "cell_type": "code",
   "execution_count": 25,
   "metadata": {},
   "outputs": [
    {
     "data": {
      "text/plain": [
       "Downtown                     2623\n",
       "McElderry Park               1014\n",
       "Patterson Park Neighborho     790\n",
       "Ellwood Park/Monument         699\n",
       "Baltimore Highlands           680\n",
       "Fells Point                   626\n",
       "Upton                         591\n",
       "Charles North                 446\n",
       "Mondawmin                     432\n",
       "Dunbar-Broadway               414\n",
       "Sandtown-Winchester           388\n",
       "Inner Harbor                  370\n",
       "Penn North                    328\n",
       "Washington Village/Pigtow     309\n",
       "Penn-Fallsway                 293\n",
       "Madison-Eastend               290\n",
       "Federal Hill                  287\n",
       "Central Park Heights          268\n",
       "Carroll - Camden Industri     267\n",
       "New Southwest/Mount Clare     251\n",
       "Milton-Montford               242\n",
       "Belair-Edison                 237\n",
       "Carrollton Ridge              237\n",
       "Perkins Homes                 236\n",
       "Madison Park                  235\n",
       "Hamilton Hills                229\n",
       "Greektown                     225\n",
       "Druid Heights                 223\n",
       "Frankford                     204\n",
       "Mount Vernon                  204\n",
       "                             ... \n",
       "Berea                          28\n",
       "Pulaski Industrial Area        26\n",
       "Orangeville                    26\n",
       "Waltherson                     25\n",
       "Pimlico Good Neighbors         24\n",
       "Seton Business Park            21\n",
       "Druid Hill Park                20\n",
       "Barre Circle                   19\n",
       "Hoes Heights                   19\n",
       "Bayview                        17\n",
       "Little Italy                   17\n",
       "Port Covington                 16\n",
       "Carroll Park                   15\n",
       "Woodberry                      14\n",
       "South Clifton Park             14\n",
       "Glen                           13\n",
       "Boyd-Booth                     13\n",
       "Hunting Ridge                  13\n",
       "Johnston Square                12\n",
       "Harwood                        10\n",
       "Woodbourne Heights              8\n",
       "Fallstaff                       8\n",
       "Woodbourne-McCabe               7\n",
       "Mid-Govans                      5\n",
       "Ridgely's Delight               4\n",
       "Burleith-Leighton               4\n",
       "Wilhelm Park                    4\n",
       "Patterson Park                  3\n",
       "Howard Park                     3\n",
       "Midtown-Edmondson               1\n",
       "Name: Neighborho, Length: 137, dtype: int64"
      ]
     },
     "execution_count": 25,
     "metadata": {},
     "output_type": "execute_result"
    }
   ],
   "source": [
    "Neighbourhood_affected"
   ]
  },
  {
   "cell_type": "code",
   "execution_count": 26,
   "metadata": {},
   "outputs": [],
   "source": [
    "Neighbourhood_affected=Neighbourhood_affected.head(10)"
   ]
  },
  {
   "cell_type": "code",
   "execution_count": 27,
   "metadata": {},
   "outputs": [
    {
     "data": {
      "text/plain": [
       "Downtown                     2623\n",
       "McElderry Park               1014\n",
       "Patterson Park Neighborho     790\n",
       "Ellwood Park/Monument         699\n",
       "Baltimore Highlands           680\n",
       "Fells Point                   626\n",
       "Upton                         591\n",
       "Charles North                 446\n",
       "Mondawmin                     432\n",
       "Dunbar-Broadway               414\n",
       "Name: Neighborho, dtype: int64"
      ]
     },
     "execution_count": 27,
     "metadata": {},
     "output_type": "execute_result"
    }
   ],
   "source": [
    "Neighbourhood_affected"
   ]
  },
  {
   "cell_type": "code",
   "execution_count": 28,
   "metadata": {},
   "outputs": [
    {
     "data": {
      "text/plain": [
       "<matplotlib.axes._subplots.AxesSubplot at 0x1befa916c50>"
      ]
     },
     "execution_count": 28,
     "metadata": {},
     "output_type": "execute_result"
    },
    {
     "data": {
      "image/png": "[encoded data removed]",
      "text/plain": [
       "<Figure size 432x288 with 1 Axes>"
      ]
     },
     "metadata": {
      "needs_background": "light"
     },
     "output_type": "display_data"
    }
   ],
   "source": [
    "Neighbourhood_affected.plot(kind=\"bar\")"
   ]
  },
  {
   "cell_type": "code",
   "execution_count": 22,
   "metadata": {},
   "outputs": [],
   "source": [
    "Neighbourhood_affected=all_details['Neighborho'].value_counts()\n"
   ]
  },
  {
   "cell_type": "code",
   "execution_count": 25,
   "metadata": {},
   "outputs": [
    {
     "data": {
      "text/plain": [
       "Downtown                     27\n",
       "Patterson Park Neighborho    16\n",
       "McElderry Park               10\n",
       "Inner Harbor                  8\n",
       "Baltimore Highlands           8\n",
       "Ellwood Park/Monument         8\n",
       "Upton                         7\n",
       "Fells Point                   7\n",
       "Charles North                 6\n",
       "Jonestown                     5\n",
       "Madison-Eastend               5\n",
       "Mid-Town Belvedere            5\n",
       "Washington Village/Pigtow     5\n",
       "Madison Park                  4\n",
       "Carrollton Ridge              4\n",
       "Name: Neighborho, dtype: int64"
      ]
     },
     "execution_count": 25,
     "metadata": {},
     "output_type": "execute_result"
    }
   ],
   "source": [
    "Neighbourhood_affected.head(15)"
   ]
  },
  {
   "cell_type": "code",
   "execution_count": 14,
   "metadata": {},
   "outputs": [
    {
     "data": {
      "text/html": [
       "<div>\n",
       "<style scoped>\n",
       "    .dataframe tbody tr th:only-of-type {\n",
       "        vertical-align: middle;\n",
       "    }\n",
       "\n",
       "    .dataframe tbody tr th {\n",
       "        vertical-align: top;\n",
       "    }\n",
       "\n",
       "    .dataframe thead th {\n",
       "        text-align: right;\n",
       "    }\n",
       "</style>\n",
       "<table border=\"1\" class=\"dataframe\">\n",
       "  <thead>\n",
       "    <tr style=\"text-align: right;\">\n",
       "      <th></th>\n",
       "      <th>OBJECTID</th>\n",
       "      <th>Join_Count</th>\n",
       "      <th>TARGET_FID</th>\n",
       "      <th>CrimeDate</th>\n",
       "      <th>CrimeTime</th>\n",
       "      <th>CrimeCode</th>\n",
       "      <th>Location</th>\n",
       "      <th>Descriptio</th>\n",
       "      <th>Inside_Out</th>\n",
       "      <th>Weapon</th>\n",
       "      <th>...</th>\n",
       "      <th>Total_Inci</th>\n",
       "      <th>FID_1</th>\n",
       "      <th>Id</th>\n",
       "      <th>Input_FID</th>\n",
       "      <th>Count_</th>\n",
       "      <th>Sum_Post</th>\n",
       "      <th>Sum_Longit</th>\n",
       "      <th>Sum_Latitu</th>\n",
       "      <th>Sum_Total</th>\n",
       "      <th>geometry</th>\n",
       "    </tr>\n",
       "  </thead>\n",
       "  <tbody>\n",
       "    <tr>\n",
       "      <th>57</th>\n",
       "      <td>58</td>\n",
       "      <td>1</td>\n",
       "      <td>57</td>\n",
       "      <td>2017-09-02</td>\n",
       "      <td>2:50:00</td>\n",
       "      <td>4E</td>\n",
       "      <td>CALVERT ST &amp; E FAYETTE ST</td>\n",
       "      <td>COMMON ASSAULT</td>\n",
       "      <td>O</td>\n",
       "      <td>HANDS</td>\n",
       "      <td>...</td>\n",
       "      <td>1</td>\n",
       "      <td>4958</td>\n",
       "      <td>0</td>\n",
       "      <td>8146</td>\n",
       "      <td>525</td>\n",
       "      <td>58275</td>\n",
       "      <td>-40221.47154</td>\n",
       "      <td>20627.19839</td>\n",
       "      <td>525</td>\n",
       "      <td>POINT (-76.61252 39.29049)</td>\n",
       "    </tr>\n",
       "    <tr>\n",
       "      <th>109</th>\n",
       "      <td>110</td>\n",
       "      <td>1</td>\n",
       "      <td>109</td>\n",
       "      <td>2017-09-01</td>\n",
       "      <td>14:00:00</td>\n",
       "      <td>3AK</td>\n",
       "      <td>200 N HOWARD ST</td>\n",
       "      <td>ROBBERY - STREET</td>\n",
       "      <td>O</td>\n",
       "      <td>KNIFE</td>\n",
       "      <td>...</td>\n",
       "      <td>1</td>\n",
       "      <td>886</td>\n",
       "      <td>0</td>\n",
       "      <td>8266</td>\n",
       "      <td>166</td>\n",
       "      <td>18426</td>\n",
       "      <td>-12718.71704</td>\n",
       "      <td>6522.42045</td>\n",
       "      <td>166</td>\n",
       "      <td>POINT (-76.61961 39.29164)</td>\n",
       "    </tr>\n",
       "    <tr>\n",
       "      <th>114</th>\n",
       "      <td>115</td>\n",
       "      <td>1</td>\n",
       "      <td>114</td>\n",
       "      <td>2017-09-01</td>\n",
       "      <td>12:30:00</td>\n",
       "      <td>4E</td>\n",
       "      <td>400 E BALTIMORE ST</td>\n",
       "      <td>COMMON ASSAULT</td>\n",
       "      <td>I</td>\n",
       "      <td>HANDS</td>\n",
       "      <td>...</td>\n",
       "      <td>1</td>\n",
       "      <td>4757</td>\n",
       "      <td>0</td>\n",
       "      <td>8086</td>\n",
       "      <td>371</td>\n",
       "      <td>41181</td>\n",
       "      <td>-28422.46718</td>\n",
       "      <td>14576.46745</td>\n",
       "      <td>371</td>\n",
       "      <td>POINT (-76.61015 39.28976)</td>\n",
       "    </tr>\n",
       "    <tr>\n",
       "      <th>318</th>\n",
       "      <td>319</td>\n",
       "      <td>1</td>\n",
       "      <td>318</td>\n",
       "      <td>2017-08-30</td>\n",
       "      <td>21:11:39</td>\n",
       "      <td>2A</td>\n",
       "      <td>BALTIMORE ST &amp; S FREDERICK ST</td>\n",
       "      <td>RAPE</td>\n",
       "      <td>I</td>\n",
       "      <td>OTHER</td>\n",
       "      <td>...</td>\n",
       "      <td>1</td>\n",
       "      <td>4752</td>\n",
       "      <td>0</td>\n",
       "      <td>8087</td>\n",
       "      <td>214</td>\n",
       "      <td>23754</td>\n",
       "      <td>-16393.93031</td>\n",
       "      <td>8407.95414</td>\n",
       "      <td>214</td>\n",
       "      <td>POINT (-76.60813 39.28982)</td>\n",
       "    </tr>\n",
       "    <tr>\n",
       "      <th>356</th>\n",
       "      <td>357</td>\n",
       "      <td>1</td>\n",
       "      <td>356</td>\n",
       "      <td>2017-08-30</td>\n",
       "      <td>15:40:00</td>\n",
       "      <td>4E</td>\n",
       "      <td>500 E BALTIMORE ST</td>\n",
       "      <td>COMMON ASSAULT</td>\n",
       "      <td>I</td>\n",
       "      <td>HANDS</td>\n",
       "      <td>...</td>\n",
       "      <td>1</td>\n",
       "      <td>4963</td>\n",
       "      <td>0</td>\n",
       "      <td>8147</td>\n",
       "      <td>415</td>\n",
       "      <td>46065</td>\n",
       "      <td>-31792.83291</td>\n",
       "      <td>16305.32206</td>\n",
       "      <td>415</td>\n",
       "      <td>POINT (-76.60882 39.28981)</td>\n",
       "    </tr>\n",
       "  </tbody>\n",
       "</table>\n",
       "<p>5 rows × 27 columns</p>\n",
       "</div>"
      ],
      "text/plain": [
       "     OBJECTID  Join_Count  TARGET_FID   CrimeDate CrimeTime CrimeCode  \\\n",
       "57         58           1          57  2017-09-02   2:50:00        4E   \n",
       "109       110           1         109  2017-09-01  14:00:00       3AK   \n",
       "114       115           1         114  2017-09-01  12:30:00        4E   \n",
       "318       319           1         318  2017-08-30  21:11:39        2A   \n",
       "356       357           1         356  2017-08-30  15:40:00        4E   \n",
       "\n",
       "                          Location        Descriptio Inside_Out Weapon  ...  \\\n",
       "57       CALVERT ST & E FAYETTE ST    COMMON ASSAULT          O  HANDS  ...   \n",
       "109                200 N HOWARD ST  ROBBERY - STREET          O  KNIFE  ...   \n",
       "114             400 E BALTIMORE ST    COMMON ASSAULT          I  HANDS  ...   \n",
       "318  BALTIMORE ST & S FREDERICK ST              RAPE          I  OTHER  ...   \n",
       "356             500 E BALTIMORE ST    COMMON ASSAULT          I  HANDS  ...   \n",
       "\n",
       "     Total_Inci FID_1 Id  Input_FID  Count_ Sum_Post   Sum_Longit  \\\n",
       "57            1  4958  0       8146     525    58275 -40221.47154   \n",
       "109           1   886  0       8266     166    18426 -12718.71704   \n",
       "114           1  4757  0       8086     371    41181 -28422.46718   \n",
       "318           1  4752  0       8087     214    23754 -16393.93031   \n",
       "356           1  4963  0       8147     415    46065 -31792.83291   \n",
       "\n",
       "      Sum_Latitu  Sum_Total                    geometry  \n",
       "57   20627.19839        525  POINT (-76.61252 39.29049)  \n",
       "109   6522.42045        166  POINT (-76.61961 39.29164)  \n",
       "114  14576.46745        371  POINT (-76.61015 39.28976)  \n",
       "318   8407.95414        214  POINT (-76.60813 39.28982)  \n",
       "356  16305.32206        415  POINT (-76.60882 39.28981)  \n",
       "\n",
       "[5 rows x 27 columns]"
      ]
     },
     "execution_count": 14,
     "metadata": {},
     "output_type": "execute_result"
    }
   ],
   "source": [
    "#Random check\n",
    "all_details[all_details['Input_FID']=='Downtown'].head(5)"
   ]
  },
  {
   "cell_type": "code",
   "execution_count": null,
   "metadata": {},
   "outputs": [],
   "source": []
  }
 ],
 "metadata": {
  "kernelspec": {
   "display_name": "Python 3",
   "language": "python",
   "name": "python3"
  },
  "language_info": {
   "codemirror_mode": {
    "name": "ipython",
    "version": 3
   },
   "file_extension": ".py",
   "mimetype": "text/x-python",
   "name": "python",
   "nbconvert_exporter": "python",
   "pygments_lexer": "ipython3",
   "version": "3.7.3"
  }
 },
 "nbformat": 4,
 "nbformat_minor": 2
}
